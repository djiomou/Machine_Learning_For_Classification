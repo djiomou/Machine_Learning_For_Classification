{
  "nbformat": 4,
  "nbformat_minor": 0,
  "metadata": {
    "celltoolbar": "Format de la Cellule Texte Brut",
    "kernelspec": {
      "display_name": "Python 3",
      "language": "python",
      "name": "python3"
    },
    "language_info": {
      "codemirror_mode": {
        "name": "ipython",
        "version": 3
      },
      "file_extension": ".py",
      "mimetype": "text/x-python",
      "name": "python",
      "nbconvert_exporter": "python",
      "pygments_lexer": "ipython3",
      "version": "3.7.1"
    },
    "colab": {
      "name": "Projet Machine Learning.ipynb",
      "provenance": [],
      "toc_visible": true
    }
  },
  "cells": [
    {
      "cell_type": "markdown",
      "metadata": {
        "id": "RShkVSqzx4v8"
      },
      "source": [
        "# Project: Machine learning for classification.\n",
        "\n",
        "Le but de ce projet est d'étudier la capacité de plusieurs machines d'apprentissage à construire un classificateur de chiffres manuscrits. \n"
      ]
    },
    {
      "cell_type": "markdown",
      "metadata": {
        "id": "bgm33t-Gx4wa"
      },
      "source": [
        "# Réaliser par:\n",
        "     1- Djiomou Ngongang Cédric Charly\n",
        "     2- Babou Traore"
      ]
    },
    {
      "cell_type": "code",
      "metadata": {
        "id": "brpDkgLJx4we"
      },
      "source": [
        "#The packages\n",
        "import pandas as pd\n",
        "import numpy as np\n",
        "import statsmodels.api as sm\n",
        "from sklearn import datasets\n",
        "import matplotlib.pyplot as plt\n",
        "from matplotlib.colors import ListedColormap\n",
        "from sklearn.model_selection import train_test_split\n",
        "from sklearn.datasets import make_moons, make_circles, make_classification\n",
        "from sklearn.neighbors import KNeighborsClassifier\n",
        "from sklearn.tree import DecisionTreeClassifier\n",
        "from sklearn.ensemble import RandomForestClassifier, AdaBoostClassifier,BaggingClassifier\n",
        "from sklearn.naive_bayes import GaussianNB\n",
        "from sklearn.discriminant_analysis import QuadraticDiscriminantAnalysis,LinearDiscriminantAnalysis\n",
        "from sklearn import linear_model\n",
        "from sklearn.model_selection import KFold"
      ],
      "execution_count": null,
      "outputs": []
    },
    {
      "cell_type": "markdown",
      "metadata": {
        "id": "OgbVnztSx4wi"
      },
      "source": [
        "# Data description\n",
        "\n",
        "The dataset contains a sample of handwritten digits. Each digit is described by an image of 8 ∗ 8 pixels in normalized grayscale.\n",
        "there are 64 features and 1797 instances. The target data contains 9 categories.\n"
      ]
    },
    {
      "cell_type": "code",
      "metadata": {
        "id": "hDl0QyB2x4wk",
        "outputId": "5015ab75-6ddf-45aa-9e98-d30441e04229"
      },
      "source": [
        "# Dataset\n",
        "\n",
        "digits = datasets.load_digits()\n",
        "X=digits.data;\n",
        "y=digits.target;\n",
        "obs=X[100,:]; label=y[100];\n",
        "image=np.array(obs, dtype='uint8').reshape(8,8);\n",
        "plt.imshow(image, cmap='gray')\n",
        "plt.show()"
      ],
      "execution_count": null,
      "outputs": [
        {
          "output_type": "display_data",
          "data": {
            "image/png": "[encoded data removed]",
            "text/plain": [
              "<Figure size 432x288 with 1 Axes>"
            ]
          },
          "metadata": {
            "tags": [],
            "needs_background": "light"
          }
        }
      ]
    },
    {
      "cell_type": "markdown",
      "metadata": {
        "id": "pdXcSf-5x4wr"
      },
      "source": [
        "# Traitement des données\n",
        "\n",
        " Le traitement des données consistera simplement pour nous à réduire les données au seules données correspondant aux deux digits choisis.\n",
        " \n",
        " Une fois fait, nous obtenons 350 observations sur 1797 au départ qui représente une perte énorme."
      ]
    },
    {
      "cell_type": "code",
      "metadata": {
        "id": "RGkaX1sOx4wt"
      },
      "source": [
        "# preprocessing dataset.\n",
        "# transforms target data\n",
        "# Our digits choices\n",
        "digit=[0,8]\n",
        "def transforms(digit= digit,method=1):\n",
        "    # method= 1:remove all data which are different from the digit input\n",
        "    # method= different from 1: We  trasform into -10 all data which are different from 0 and 8,and into 10 else\n",
        "    # digit: Our target choices. Could be different.\n",
        "    target=digit \n",
        "    if method==1:\n",
        "        index=[]\n",
        "        for i in range(len(y)):\n",
        "            if y[i] not in target:\n",
        "                index.append(i)\n",
        "        # delete data different from 0 and 8\n",
        "        y_target=np.delete(y,index)\n",
        "        X_features=np.delete(X,index,axis=0)\n",
        "    else:\n",
        "        y_target=[]\n",
        "        for i in y:\n",
        "            if i in target:\n",
        "                y_target.append(10)\n",
        "            else: \n",
        "                y_target.append(-10)\n",
        "        X_features=X\n",
        "        \n",
        "    return(y_target,X_features)    \n",
        "            \n"
      ],
      "execution_count": null,
      "outputs": []
    },
    {
      "cell_type": "markdown",
      "metadata": {
        "id": "FK4iaM_7x4wv"
      },
      "source": [
        "# Apprentissage et validation des modèles"
      ]
    },
    {
      "cell_type": "code",
      "metadata": {
        "id": "Crpah3yUx4ww"
      },
      "source": [
        "# Function to use in the whole project\n",
        "def dataframe(train_score,test_score,score):\n",
        "    res=pd.DataFrame([round(train_score,4)*100,round(test_score,4)*100,round(score,4)*100],index=[\"Trainset\",\"Testset\",\"Dataset\"])\n",
        "    res.columns=[\"Accuracy(%)\"]\n",
        "    return(res)  \n",
        "# fonction qui nous aidera à afficher les résultats sous forme de tableau."
      ],
      "execution_count": null,
      "outputs": []
    },
    {
      "cell_type": "code",
      "metadata": {
        "id": "yDNTR4TFx4wx"
      },
      "source": [
        "# split into training and test part\n",
        "\n",
        "y_target,X_features=transforms(method=1)\n",
        "X_train, X_test, Y_train, Y_test = train_test_split(X_features, y_target, test_size=.4, random_state=0)"
      ],
      "execution_count": null,
      "outputs": []
    },
    {
      "cell_type": "code",
      "metadata": {
        "id": "uTQXJ5Tnx4wz",
        "outputId": "46c2e209-e756-4303-f490-b9ef56281bcd"
      },
      "source": [
        "# Naives Bayes\n",
        "\n",
        "gnb = GaussianNB();\n",
        "gnbfit=gnb.fit(X_train, Y_train);\n",
        "dataframe(train_score=gnb.score(X_train, Y_train),test_score=gnb.score(X_test, Y_test),score=gnb.score(X_features, y_target))"
      ],
      "execution_count": null,
      "outputs": [
        {
          "output_type": "execute_result",
          "data": {
            "text/html": [
              "<div>\n",
              "<style scoped>\n",
              "    .dataframe tbody tr th:only-of-type {\n",
              "        vertical-align: middle;\n",
              "    }\n",
              "\n",
              "    .dataframe tbody tr th {\n",
              "        vertical-align: top;\n",
              "    }\n",
              "\n",
              "    .dataframe thead th {\n",
              "        text-align: right;\n",
              "    }\n",
              "</style>\n",
              "<table border=\"1\" class=\"dataframe\">\n",
              "  <thead>\n",
              "    <tr style=\"text-align: right;\">\n",
              "      <th></th>\n",
              "      <th>Accuracy(%)</th>\n",
              "    </tr>\n",
              "  </thead>\n",
              "  <tbody>\n",
              "    <tr>\n",
              "      <th>Trainset</th>\n",
              "      <td>99.53</td>\n",
              "    </tr>\n",
              "    <tr>\n",
              "      <th>Testset</th>\n",
              "      <td>100.00</td>\n",
              "    </tr>\n",
              "    <tr>\n",
              "      <th>Dataset</th>\n",
              "      <td>99.72</td>\n",
              "    </tr>\n",
              "  </tbody>\n",
              "</table>\n",
              "</div>"
            ],
            "text/plain": [
              "          Accuracy(%)\n",
              "Trainset        99.53\n",
              "Testset        100.00\n",
              "Dataset         99.72"
            ]
          },
          "metadata": {
            "tags": []
          },
          "execution_count": 42
        }
      ]
    },
    {
      "cell_type": "code",
      "metadata": {
        "id": "XGjU3s4Dx4w2",
        "outputId": "774104a2-2a05-4456-a5da-149fd5f0017c"
      },
      "source": [
        "#Linear Discriminant Analysis\n",
        "\n",
        "lda = LinearDiscriminantAnalysis(solver='lsqr');\n",
        "ldafit=lda.fit(X_train,Y_train)\n",
        "dataframe(train_score=lda.score(X_train, Y_train),test_score=lda.score(X_test, Y_test),score=lda.score(X_features, y_target))"
      ],
      "execution_count": null,
      "outputs": [
        {
          "output_type": "execute_result",
          "data": {
            "text/html": [
              "<div>\n",
              "<style scoped>\n",
              "    .dataframe tbody tr th:only-of-type {\n",
              "        vertical-align: middle;\n",
              "    }\n",
              "\n",
              "    .dataframe tbody tr th {\n",
              "        vertical-align: top;\n",
              "    }\n",
              "\n",
              "    .dataframe thead th {\n",
              "        text-align: right;\n",
              "    }\n",
              "</style>\n",
              "<table border=\"1\" class=\"dataframe\">\n",
              "  <thead>\n",
              "    <tr style=\"text-align: right;\">\n",
              "      <th></th>\n",
              "      <th>Accuracy(%)</th>\n",
              "    </tr>\n",
              "  </thead>\n",
              "  <tbody>\n",
              "    <tr>\n",
              "      <th>Trainset</th>\n",
              "      <td>100.0</td>\n",
              "    </tr>\n",
              "    <tr>\n",
              "      <th>Testset</th>\n",
              "      <td>100.0</td>\n",
              "    </tr>\n",
              "    <tr>\n",
              "      <th>Dataset</th>\n",
              "      <td>100.0</td>\n",
              "    </tr>\n",
              "  </tbody>\n",
              "</table>\n",
              "</div>"
            ],
            "text/plain": [
              "          Accuracy(%)\n",
              "Trainset        100.0\n",
              "Testset         100.0\n",
              "Dataset         100.0"
            ]
          },
          "metadata": {
            "tags": []
          },
          "execution_count": 43
        }
      ]
    },
    {
      "cell_type": "code",
      "metadata": {
        "id": "bWW3wFV0x4w5",
        "outputId": "5217a33a-0569-476c-bea6-ed95e5fd5dea"
      },
      "source": [
        "#Logistic regression\n",
        "\n",
        "lgr = linear_model.LogisticRegression(solver=\"lbfgs\");\n",
        "lgrfit=lgr.fit(X_train,Y_train)\n",
        "dataframe(train_score=lgr.score(X_train, Y_train),test_score=lgr.score(X_test, Y_test),score=lgr.score(X_features, y_target))"
      ],
      "execution_count": null,
      "outputs": [
        {
          "output_type": "execute_result",
          "data": {
            "text/html": [
              "<div>\n",
              "<style scoped>\n",
              "    .dataframe tbody tr th:only-of-type {\n",
              "        vertical-align: middle;\n",
              "    }\n",
              "\n",
              "    .dataframe tbody tr th {\n",
              "        vertical-align: top;\n",
              "    }\n",
              "\n",
              "    .dataframe thead th {\n",
              "        text-align: right;\n",
              "    }\n",
              "</style>\n",
              "<table border=\"1\" class=\"dataframe\">\n",
              "  <thead>\n",
              "    <tr style=\"text-align: right;\">\n",
              "      <th></th>\n",
              "      <th>Accuracy(%)</th>\n",
              "    </tr>\n",
              "  </thead>\n",
              "  <tbody>\n",
              "    <tr>\n",
              "      <th>Trainset</th>\n",
              "      <td>100.0</td>\n",
              "    </tr>\n",
              "    <tr>\n",
              "      <th>Testset</th>\n",
              "      <td>100.0</td>\n",
              "    </tr>\n",
              "    <tr>\n",
              "      <th>Dataset</th>\n",
              "      <td>100.0</td>\n",
              "    </tr>\n",
              "  </tbody>\n",
              "</table>\n",
              "</div>"
            ],
            "text/plain": [
              "          Accuracy(%)\n",
              "Trainset        100.0\n",
              "Testset         100.0\n",
              "Dataset         100.0"
            ]
          },
          "metadata": {
            "tags": []
          },
          "execution_count": 44
        }
      ]
    },
    {
      "cell_type": "code",
      "metadata": {
        "id": "gr9MtYjFx4w6",
        "outputId": "d6f439b2-5e2f-457b-d200-f4472bc5a22d"
      },
      "source": [
        "# Neighbors\n",
        " \n",
        "knn=KNeighborsClassifier()\n",
        "knnfit=knn.fit(X_train,Y_train)\n",
        "dataframe(train_score=knn.score(X_train, Y_train),test_score=knn.score(X_test, Y_test),score=knn.score(X_features, y_target))"
      ],
      "execution_count": null,
      "outputs": [
        {
          "output_type": "execute_result",
          "data": {
            "text/html": [
              "<div>\n",
              "<style scoped>\n",
              "    .dataframe tbody tr th:only-of-type {\n",
              "        vertical-align: middle;\n",
              "    }\n",
              "\n",
              "    .dataframe tbody tr th {\n",
              "        vertical-align: top;\n",
              "    }\n",
              "\n",
              "    .dataframe thead th {\n",
              "        text-align: right;\n",
              "    }\n",
              "</style>\n",
              "<table border=\"1\" class=\"dataframe\">\n",
              "  <thead>\n",
              "    <tr style=\"text-align: right;\">\n",
              "      <th></th>\n",
              "      <th>Accuracy(%)</th>\n",
              "    </tr>\n",
              "  </thead>\n",
              "  <tbody>\n",
              "    <tr>\n",
              "      <th>Trainset</th>\n",
              "      <td>100.0</td>\n",
              "    </tr>\n",
              "    <tr>\n",
              "      <th>Testset</th>\n",
              "      <td>100.0</td>\n",
              "    </tr>\n",
              "    <tr>\n",
              "      <th>Dataset</th>\n",
              "      <td>100.0</td>\n",
              "    </tr>\n",
              "  </tbody>\n",
              "</table>\n",
              "</div>"
            ],
            "text/plain": [
              "          Accuracy(%)\n",
              "Trainset        100.0\n",
              "Testset         100.0\n",
              "Dataset         100.0"
            ]
          },
          "metadata": {
            "tags": []
          },
          "execution_count": 45
        }
      ]
    },
    {
      "cell_type": "code",
      "metadata": {
        "id": "iVMGoT12x4w8",
        "outputId": "ee092a6b-ff4a-4274-e3d0-a0f1a0e8ba27"
      },
      "source": [
        "# Decision tree\n",
        "\n",
        "tree = DecisionTreeClassifier()\n",
        "treefit = tree.fit(X_train, Y_train);\n",
        "dataframe(train_score=tree.score(X_train, Y_train),test_score=tree.score(X_test, Y_test),score=tree.score(X_features, y_target))"
      ],
      "execution_count": null,
      "outputs": [
        {
          "output_type": "execute_result",
          "data": {
            "text/html": [
              "<div>\n",
              "<style scoped>\n",
              "    .dataframe tbody tr th:only-of-type {\n",
              "        vertical-align: middle;\n",
              "    }\n",
              "\n",
              "    .dataframe tbody tr th {\n",
              "        vertical-align: top;\n",
              "    }\n",
              "\n",
              "    .dataframe thead th {\n",
              "        text-align: right;\n",
              "    }\n",
              "</style>\n",
              "<table border=\"1\" class=\"dataframe\">\n",
              "  <thead>\n",
              "    <tr style=\"text-align: right;\">\n",
              "      <th></th>\n",
              "      <th>Accuracy(%)</th>\n",
              "    </tr>\n",
              "  </thead>\n",
              "  <tbody>\n",
              "    <tr>\n",
              "      <th>Trainset</th>\n",
              "      <td>100.00</td>\n",
              "    </tr>\n",
              "    <tr>\n",
              "      <th>Testset</th>\n",
              "      <td>99.29</td>\n",
              "    </tr>\n",
              "    <tr>\n",
              "      <th>Dataset</th>\n",
              "      <td>99.72</td>\n",
              "    </tr>\n",
              "  </tbody>\n",
              "</table>\n",
              "</div>"
            ],
            "text/plain": [
              "          Accuracy(%)\n",
              "Trainset       100.00\n",
              "Testset         99.29\n",
              "Dataset         99.72"
            ]
          },
          "metadata": {
            "tags": []
          },
          "execution_count": 46
        }
      ]
    },
    {
      "cell_type": "code",
      "metadata": {
        "id": "_A5s_7Cix4w-",
        "outputId": "d9bb78a8-c2b9-4d0d-d000-e523c3a06caf"
      },
      "source": [
        "# Summary of all Classifiers\n",
        "\n",
        "names=[\"NBayes\",\"KNeighbors\",\"LDA\",\"Logreg\",\"Dtree\"]\n",
        "classifiers = [\n",
        "    GaussianNB(),\n",
        "    KNeighborsClassifier(n_neighbors=2),\n",
        "    LinearDiscriminantAnalysis(solver='lsqr'),\n",
        "    linear_model.LogisticRegression(solver='lbfgs'),\n",
        "    DecisionTreeClassifier(),\n",
        "    ]\n",
        "train_score=[]\n",
        "test_score=[]\n",
        "dataset_score=[]\n",
        "# iterate over classifiers\n",
        "for name, clf in zip(names, classifiers):\n",
        "    clf.fit(X_train, Y_train)\n",
        "    train_score.append(round(clf.score(X_train, Y_train),4)*100)\n",
        "    test_score.append(round(clf.score(X_test, Y_test),4)*100)\n",
        "    dataset_score.append(round(clf.score(X_features,y_target),4)*100)\n",
        "        \n",
        "        \n",
        "\n",
        "Accuracy=pd.DataFrame([train_score,test_score,dataset_score],index=[\"Training set\",\"Test set\",\"Dataset\"])\n",
        "Accuracy.columns=names\n",
        "Accuracy"
      ],
      "execution_count": null,
      "outputs": [
        {
          "output_type": "execute_result",
          "data": {
            "text/html": [
              "<div>\n",
              "<style scoped>\n",
              "    .dataframe tbody tr th:only-of-type {\n",
              "        vertical-align: middle;\n",
              "    }\n",
              "\n",
              "    .dataframe tbody tr th {\n",
              "        vertical-align: top;\n",
              "    }\n",
              "\n",
              "    .dataframe thead th {\n",
              "        text-align: right;\n",
              "    }\n",
              "</style>\n",
              "<table border=\"1\" class=\"dataframe\">\n",
              "  <thead>\n",
              "    <tr style=\"text-align: right;\">\n",
              "      <th></th>\n",
              "      <th>NBayes</th>\n",
              "      <th>KNeighbors</th>\n",
              "      <th>LDA</th>\n",
              "      <th>Logreg</th>\n",
              "      <th>Dtree</th>\n",
              "    </tr>\n",
              "  </thead>\n",
              "  <tbody>\n",
              "    <tr>\n",
              "      <th>Training set</th>\n",
              "      <td>99.53</td>\n",
              "      <td>100.0</td>\n",
              "      <td>100.0</td>\n",
              "      <td>100.0</td>\n",
              "      <td>100.00</td>\n",
              "    </tr>\n",
              "    <tr>\n",
              "      <th>Test set</th>\n",
              "      <td>100.00</td>\n",
              "      <td>100.0</td>\n",
              "      <td>100.0</td>\n",
              "      <td>100.0</td>\n",
              "      <td>99.29</td>\n",
              "    </tr>\n",
              "    <tr>\n",
              "      <th>Dataset</th>\n",
              "      <td>99.72</td>\n",
              "      <td>100.0</td>\n",
              "      <td>100.0</td>\n",
              "      <td>100.0</td>\n",
              "      <td>99.72</td>\n",
              "    </tr>\n",
              "  </tbody>\n",
              "</table>\n",
              "</div>"
            ],
            "text/plain": [
              "              NBayes  KNeighbors    LDA  Logreg   Dtree\n",
              "Training set   99.53       100.0  100.0   100.0  100.00\n",
              "Test set      100.00       100.0  100.0   100.0   99.29\n",
              "Dataset        99.72       100.0  100.0   100.0   99.72"
            ]
          },
          "metadata": {
            "tags": []
          },
          "execution_count": 47
        }
      ]
    },
    {
      "cell_type": "markdown",
      "metadata": {
        "id": "2z5Ggqf2x4xA"
      },
      "source": [
        "  Nous remarquons à l'issue de l'entraînement de ces quatre classifieurs, une performance de 100% sur les données d'entraînement, de test et sur l'ensemble des données pour tous les modèles sauf ceux du  Naive Bayes qui sont tout de même proche de 100%.  nous allons essayer d'améliorer avec les méthoses d'ensemble. \n",
        "  \n",
        "  La précision de l'arbre à décision est de 100% en entraînement et de 99.29 en génération avec une légère variance de moins de 1%. Nous aimerions que la performance en génération soit aumoins égale à la performance en entraînement. Nous essayerons de l'améliorer.\n",
        "  \n",
        "  Une performance de 100% laisserait penser que nos modèles sont parfaits.Toutefois nous sommes plutôt sceptiques quant à ces valeurs et soupçonons que la quantité insuffisante des données qui est davantage réduite avec la méthode de recodage de notre variabe cible pourrait expliquer une telle performance.\n",
        " "
      ]
    },
    {
      "cell_type": "markdown",
      "metadata": {
        "id": "nyAHpHZlx4xB"
      },
      "source": [
        "### Amélioration de la performance du modèle Gaussien et de l'arbre à décision\n",
        "\n",
        " En temps normal, la précision de 99.53% obtenues pour le modèle gaussien est en principe une bonne performance pour un modèle mais pour des raisons pédagogiques, nous essayerons de voir l'impact des méthodes d'ensembles telles que le random forest, le Bagging et l'Adaboost sur la performance.\n",
        " \n",
        " Nous allons donc utiliser le random forest pour l'arbre à décision et le Bagging et l'Adaboost pour les deux modèles."
      ]
    },
    {
      "cell_type": "code",
      "metadata": {
        "id": "9F7niV22x4xC",
        "outputId": "3366c92c-8a77-4f7c-ef74-187fb7498c4a"
      },
      "source": [
        "# Random forest pour l'arbre à décision\n",
        "\n",
        "# Training with various n_estimators\n",
        "n=[10,15,20,25,30,35,40]\n",
        "train_score_RF=[]\n",
        "test_score_RF=[]\n",
        "score_RF=[]\n",
        "for i in n:\n",
        "    RF = RandomForestClassifier(random_state=0,n_estimators=i)\n",
        "    RFfit=RF.fit(X_train, Y_train)\n",
        "    train_score_RF.append(round(RFfit.score(X_train, Y_train),4)*100)\n",
        "    test_score_RF.append(round(RFfit.score(X_test, Y_test),4)*100)\n",
        "    score_RF.append(round(RFfit.score(X_features, y_target),4)*100)\n",
        "    \n",
        "    \n",
        "Accuracy_RF=pd.DataFrame([train_score_RF,test_score_RF,score_RF],index=[\"Training set\",\"Test set\",\"Dataset\"])\n",
        "Accuracy_RF.columns=n\n",
        "Accuracy_RF"
      ],
      "execution_count": null,
      "outputs": [
        {
          "output_type": "execute_result",
          "data": {
            "text/html": [
              "<div>\n",
              "<style scoped>\n",
              "    .dataframe tbody tr th:only-of-type {\n",
              "        vertical-align: middle;\n",
              "    }\n",
              "\n",
              "    .dataframe tbody tr th {\n",
              "        vertical-align: top;\n",
              "    }\n",
              "\n",
              "    .dataframe thead th {\n",
              "        text-align: right;\n",
              "    }\n",
              "</style>\n",
              "<table border=\"1\" class=\"dataframe\">\n",
              "  <thead>\n",
              "    <tr style=\"text-align: right;\">\n",
              "      <th></th>\n",
              "      <th>10</th>\n",
              "      <th>15</th>\n",
              "      <th>20</th>\n",
              "      <th>25</th>\n",
              "      <th>30</th>\n",
              "      <th>35</th>\n",
              "      <th>40</th>\n",
              "    </tr>\n",
              "  </thead>\n",
              "  <tbody>\n",
              "    <tr>\n",
              "      <th>Training set</th>\n",
              "      <td>100.00</td>\n",
              "      <td>100.0</td>\n",
              "      <td>100.0</td>\n",
              "      <td>100.0</td>\n",
              "      <td>100.0</td>\n",
              "      <td>100.0</td>\n",
              "      <td>100.0</td>\n",
              "    </tr>\n",
              "    <tr>\n",
              "      <th>Test set</th>\n",
              "      <td>99.29</td>\n",
              "      <td>100.0</td>\n",
              "      <td>100.0</td>\n",
              "      <td>100.0</td>\n",
              "      <td>100.0</td>\n",
              "      <td>100.0</td>\n",
              "      <td>100.0</td>\n",
              "    </tr>\n",
              "    <tr>\n",
              "      <th>Dataset</th>\n",
              "      <td>99.72</td>\n",
              "      <td>100.0</td>\n",
              "      <td>100.0</td>\n",
              "      <td>100.0</td>\n",
              "      <td>100.0</td>\n",
              "      <td>100.0</td>\n",
              "      <td>100.0</td>\n",
              "    </tr>\n",
              "  </tbody>\n",
              "</table>\n",
              "</div>"
            ],
            "text/plain": [
              "                  10     15     20     25     30     35     40\n",
              "Training set  100.00  100.0  100.0  100.0  100.0  100.0  100.0\n",
              "Test set       99.29  100.0  100.0  100.0  100.0  100.0  100.0\n",
              "Dataset        99.72  100.0  100.0  100.0  100.0  100.0  100.0"
            ]
          },
          "metadata": {
            "tags": []
          },
          "execution_count": 50
        }
      ]
    },
    {
      "cell_type": "markdown",
      "metadata": {
        "id": "V5ZM44vqx4xK"
      },
      "source": [
        "La performance du modèle de l'arbre à décision s'améliore avec le random forest à partir de 15 arbres en  entrée.\n",
        "\n",
        "Nous allons regarder ce qu'il en est du Boosting et du Bagging."
      ]
    },
    {
      "cell_type": "code",
      "metadata": {
        "id": "QEBhgxcAx4xM",
        "outputId": "52e53e97-ea7e-4cbb-bc97-b53aaf0bfb17"
      },
      "source": [
        "#Adaboost pour les deux modèles\n",
        "names1=[\"NBayes\",\"Dtree\"]\n",
        "classifiers1 = [GaussianNB(),DecisionTreeClassifier()]\n",
        "n=[10,15,20,25,30,35,40,50]\n",
        "# iterate over classifiers\n",
        "for name, clf in zip(names1, classifiers1):\n",
        "    train_score_ab1=[]\n",
        "    test_score_ab1=[]\n",
        "    score_ab1=[]\n",
        "# Training with various n_estimators\n",
        "    for i in n:\n",
        "        Ab1 = AdaBoostClassifier(base_estimator=clf,n_estimators=i)\n",
        "        Ab1fit=Ab1.fit(X_train, Y_train)\n",
        "        train_score_ab1.append(round(Ab1fit.score(X_train, Y_train),4)*100)\n",
        "        test_score_ab1.append(round(Ab1fit.score(X_test, Y_test),4)*100)\n",
        "        score_ab1.append(round(Ab1fit.score(X_features, y_target),4)*100)\n",
        "    \n",
        "    \n",
        "    Accuracy_ab=pd.DataFrame([train_score_ab1,test_score_ab1,score_ab1],index=[\"Training set\",\"Test set\",\"Dataset\"])\n",
        "    Accuracy_ab.columns=n\n",
        "    print(\"Adaboost pour:\",name,\"\\n\",Accuracy_ab,\"\\n\")"
      ],
      "execution_count": null,
      "outputs": [
        {
          "output_type": "stream",
          "text": [
            "Adaboost pour: NBayes \n",
            "                   10      15      20      25      30      35      40      50\n",
            "Training set  100.00  100.00  100.00  100.00  100.00  100.00  100.00  100.00\n",
            "Test set       98.58   98.58   98.58   98.58   98.58   98.58   98.58   98.58\n",
            "Dataset        99.43   99.43   99.43   99.43   99.43   99.43   99.43   99.43 \n",
            "\n",
            "Adaboost pour: Dtree \n",
            "                  10     15      20     25     30     35     40     50\n",
            "Training set  100.0  100.0  100.00  100.0  100.0  100.0  100.0  100.0\n",
            "Test set      100.0  100.0   98.58  100.0  100.0  100.0  100.0  100.0\n",
            "Dataset       100.0  100.0   99.43  100.0  100.0  100.0  100.0  100.0 \n",
            "\n"
          ],
          "name": "stdout"
        }
      ]
    },
    {
      "cell_type": "markdown",
      "metadata": {
        "id": "0zNDMd7Kx4xN"
      },
      "source": [
        "  Tout d'abord, on remarque que le biais du modèle du Naive Bayes est améliorée par l'adaboost mais la variance est détériorée. Le modèle Naive Bayes est préféré à son corrolaire Adaboost.\n",
        " \n",
        "  Ensuite, la performance globale de l'arbre à décision est également améliorée avec l'Adaboost à 10 arbres quand le random forest le fait avec 15 arbres. Nous préferons donc le modèle d'arbres à décision à 10 arbres. \n",
        "  \n",
        " Qu'en est-il du bagging?"
      ]
    },
    {
      "cell_type": "code",
      "metadata": {
        "id": "Qk9G6Ergx4xO",
        "outputId": "74d011be-feaf-468b-ffb6-fae42e3bf06b"
      },
      "source": [
        "# Bagging pour les deux modèles\n",
        "names1=[\"NBayes\",\"Dtree\"]\n",
        "classifiers1 = [GaussianNB(),DecisionTreeClassifier()]\n",
        "n=[10,15,20,25,30,35,40,50]\n",
        "# iterate over classifiers\n",
        "for name, clf in zip(names1, classifiers1):\n",
        "    train_score_bg1=[]\n",
        "    test_score_bg1=[]\n",
        "    score_bg1=[]\n",
        "# Training with various n_estimators\n",
        "    for i in n:\n",
        "        bg1 = BaggingClassifier(base_estimator=clf,n_estimators=i)\n",
        "        bg1fit=bg1.fit(X_train, Y_train)\n",
        "        train_score_bg1.append(round(bg1fit.score(X_train, Y_train),4)*100)\n",
        "        test_score_bg1.append(round(bg1fit.score(X_test, Y_test),4)*100)\n",
        "        score_bg1.append(round(bg1fit.score(X_features, y_target),4)*100)\n",
        "    \n",
        "    \n",
        "    Accuracy_bg1=pd.DataFrame([train_score_bg1,test_score_bg1,score_bg1],index=[\"Training set\",\"Test set\",\"Dataset\"])\n",
        "    Accuracy_bg1.columns=n\n",
        "    print(\"Bagging pour:\",name,\"\\n\",Accuracy_bg1,\"\\n\")"
      ],
      "execution_count": null,
      "outputs": [
        {
          "output_type": "stream",
          "text": [
            "Bagging pour: NBayes \n",
            "                   10      15      20      25      30      35      40      50\n",
            "Training set   99.53   99.53   99.53   99.53   99.53   99.53   99.53   99.53\n",
            "Test set      100.00  100.00  100.00  100.00  100.00  100.00  100.00  100.00\n",
            "Dataset        99.72   99.72   99.72   99.72   99.72   99.72   99.72   99.72 \n",
            "\n",
            "Bagging pour: Dtree \n",
            "                   10      15      20      25      30      35      40      50\n",
            "Training set  100.00  100.00  100.00  100.00  100.00  100.00  100.00  100.00\n",
            "Test set       99.29   99.29   99.29   99.29   99.29   99.29   99.29   99.29\n",
            "Dataset        99.72   99.72   99.72   99.72   99.72   99.72   99.72   99.72 \n",
            "\n"
          ],
          "name": "stdout"
        }
      ]
    },
    {
      "cell_type": "markdown",
      "metadata": {
        "id": "XIGEyOQ_x4xQ"
      },
      "source": [
        " Le bagging conserve le même modèle du Naive Bayes classique et le même modèle de l'arbre à décision classique.\n",
        " \n",
        " En résumé pour cette methode de recodage de la variable cible, le meilleur classifieur:\n",
        " \n",
        " pour le Naive Baye est celui du Naive Bayes classique.\n",
        " pour l'arbre à décision est celui avec le Adaboost avec 10 arbres\n",
        " Pour le LDA,KNN et logistique, est leur modèle classique.\n",
        " "
      ]
    },
    {
      "cell_type": "markdown",
      "metadata": {
        "id": "5gUeo4cqx4xS"
      },
      "source": [
        "### Les meilleurs modèles"
      ]
    },
    {
      "cell_type": "code",
      "metadata": {
        "id": "401F0NCRx4xT",
        "outputId": "8f8cb543-fd4c-45d5-9dbd-66e6dee41d8f"
      },
      "source": [
        "# En résumé\n",
        "\n",
        "names=[\"NBayes\",\"KNeighbors\",\"LDA\",\"Logreg\",\"Adaboost\"]\n",
        "classifiers_best = [\n",
        "    GaussianNB(),\n",
        "    KNeighborsClassifier(),\n",
        "    LinearDiscriminantAnalysis(solver='lsqr'),\n",
        "    linear_model.LogisticRegression(solver='lbfgs'),\n",
        "    AdaBoostClassifier(base_estimator=clf,n_estimators=10),\n",
        "    ]\n",
        "train_score_best=[]\n",
        "test_score_best=[]\n",
        "dataset_score_best=[]\n",
        "# iterate over classifiers\n",
        "for name, clf in zip(names, classifiers_best):\n",
        "    clf.fit(X_train, Y_train)\n",
        "    train_score_best.append(round(clf.score(X_train, Y_train),4)*100)\n",
        "    test_score_best.append(round(clf.score(X_test, Y_test),4)*100)\n",
        "    dataset_score_best.append(round(clf.score(X_features,y_target),4)*100)\n",
        "        \n",
        "        \n",
        "\n",
        "Accuracy_best=pd.DataFrame([train_score_best,test_score_best,dataset_score_best],index=[\"Training set\",\"Test set\",\"Dataset\"])\n",
        "Accuracy_best.columns=names\n",
        "Accuracy_best"
      ],
      "execution_count": null,
      "outputs": [
        {
          "output_type": "execute_result",
          "data": {
            "text/html": [
              "<div>\n",
              "<style scoped>\n",
              "    .dataframe tbody tr th:only-of-type {\n",
              "        vertical-align: middle;\n",
              "    }\n",
              "\n",
              "    .dataframe tbody tr th {\n",
              "        vertical-align: top;\n",
              "    }\n",
              "\n",
              "    .dataframe thead th {\n",
              "        text-align: right;\n",
              "    }\n",
              "</style>\n",
              "<table border=\"1\" class=\"dataframe\">\n",
              "  <thead>\n",
              "    <tr style=\"text-align: right;\">\n",
              "      <th></th>\n",
              "      <th>NBayes</th>\n",
              "      <th>KNeighbors</th>\n",
              "      <th>LDA</th>\n",
              "      <th>Logreg</th>\n",
              "      <th>Adaboost</th>\n",
              "    </tr>\n",
              "  </thead>\n",
              "  <tbody>\n",
              "    <tr>\n",
              "      <th>Training set</th>\n",
              "      <td>99.53</td>\n",
              "      <td>100.0</td>\n",
              "      <td>100.0</td>\n",
              "      <td>100.0</td>\n",
              "      <td>100.0</td>\n",
              "    </tr>\n",
              "    <tr>\n",
              "      <th>Test set</th>\n",
              "      <td>100.00</td>\n",
              "      <td>100.0</td>\n",
              "      <td>100.0</td>\n",
              "      <td>100.0</td>\n",
              "      <td>100.0</td>\n",
              "    </tr>\n",
              "    <tr>\n",
              "      <th>Dataset</th>\n",
              "      <td>99.72</td>\n",
              "      <td>100.0</td>\n",
              "      <td>100.0</td>\n",
              "      <td>100.0</td>\n",
              "      <td>100.0</td>\n",
              "    </tr>\n",
              "  </tbody>\n",
              "</table>\n",
              "</div>"
            ],
            "text/plain": [
              "              NBayes  KNeighbors    LDA  Logreg  Adaboost\n",
              "Training set   99.53       100.0  100.0   100.0     100.0\n",
              "Test set      100.00       100.0  100.0   100.0     100.0\n",
              "Dataset        99.72       100.0  100.0   100.0     100.0"
            ]
          },
          "metadata": {
            "tags": []
          },
          "execution_count": 60
        }
      ]
    },
    {
      "cell_type": "markdown",
      "metadata": {
        "id": "GcdJ0Zuhx4xU"
      },
      "source": [
        " Pour le choix d'un modèle, nous écartons le Naive bayes et sommes indifférents pour les quatre autres."
      ]
    },
    {
      "cell_type": "code",
      "metadata": {
        "id": "sS7RTWgYx4xV",
        "outputId": "a3646c8a-eb95-4402-d82d-6c960cfe3430"
      },
      "source": [
        "print(range(1,51))"
      ],
      "execution_count": null,
      "outputs": [
        {
          "output_type": "stream",
          "text": [
            "range(1, 51)\n"
          ],
          "name": "stdout"
        }
      ]
    }
  ]
}